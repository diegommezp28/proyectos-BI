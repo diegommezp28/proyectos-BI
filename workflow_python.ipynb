{
 "cells": [
  {
   "cell_type": "code",
   "execution_count": 1,
   "metadata": {
    "collapsed": true
   },
   "outputs": [
    {
     "name": "stderr",
     "output_type": "stream",
     "text": [
      "[nltk_data] Downloading package stopwords to\n",
      "[nltk_data]     /home/diegogomez/nltk_data...\n",
      "[nltk_data]   Package stopwords is already up-to-date!\n",
      "[nltk_data] Downloading package wordnet to\n",
      "[nltk_data]     /home/diegogomez/nltk_data...\n",
      "[nltk_data]   Package wordnet is already up-to-date!\n"
     ]
    }
   ],
   "source": [
    "import numpy as np\n",
    "import re\n",
    "import nltk\n",
    "from sklearn.datasets import load_files\n",
    "from sklearn.ensemble import RandomForestClassifier\n",
    "from sklearn.neighbors import KNeighborsClassifier\n",
    "nltk.download('stopwords')\n",
    "nltk.download('wordnet')\n",
    "import pickle\n",
    "import pandas as pd\n",
    "from nltk.stem import WordNetLemmatizer\n",
    "from sklearn.feature_extraction.text import CountVectorizer\n",
    "from nltk.corpus import stopwords\n",
    "from sklearn.model_selection import train_test_split\n",
    "from sklearn.metrics import classification_report, confusion_matrix, accuracy_score\n",
    "from sklearn.feature_extraction.text import TfidfTransformer\n",
    "from matplotlib import pyplot as plt"
   ]
  },
  {
   "cell_type": "markdown",
   "metadata": {},
   "source": [
    "### Import the Dataset\n",
    "\n",
    "En este paso se importan los dos archivos de datos desde la carpeta `./data`.\n",
    "Luego se crea una nueva columna en cada Dataframe que representa el documento completo\n",
    "(Titulo + contenido). Se le hace `drop` al resto de columnas.\n",
    "El arreglo `targert` se construye a partir de los archivos anteriores, la idea es que sea un arreglo\n",
    "de dimensión (n,1) donde n es la suma de el tamaño de los documentos anteriores. Además, los primeros k valores\n",
    "se marcarán con 1, donde k es el tamaño de los datos de noticias reales, el resto son ceros representando las falsas.\n"
   ]
  },
  {
   "cell_type": "code",
   "execution_count": 2,
   "metadata": {
    "pycharm": {
     "name": "#%%\n"
    }
   },
   "outputs": [
    {
     "name": "stdout",
     "output_type": "stream",
     "text": [
      "44898\n"
     ]
    }
   ],
   "source": [
    "datos_true = pd.read_csv('../data/pos/True.csv')\n",
    "datos_false = pd.read_csv('../data/neg/Fake.csv')\n",
    "\n",
    "datos_true['documento'] = datos_true['title']+ datos_true['text']\n",
    "datos_false['documento'] = datos_false['title'] + datos_false['text']\n",
    "\n",
    "# Creación de arreglo Target\n",
    "target_true = np.ones(len(datos_true['documento']))\n",
    "target_false = np.zeros(len(datos_false['documento']))\n",
    "target = np.concatenate((target_true, target_false))\n",
    "\n",
    "# Descartar columnas\n",
    "datos_true.drop(columns=['title', 'text', 'subject', 'date'], axis=1, inplace=True)\n",
    "datos_false.drop(columns=['title', 'text', 'subject', 'date'], axis=1, inplace=True)\n",
    "\n",
    "print(len(target))"
   ]
  },
  {
   "cell_type": "markdown",
   "metadata": {},
   "source": [
    "## Preprocesamiento\n",
    "\n",
    "Se le aplica a cada Dataframe un filtrado de caracteres con poco valor para el modelo."
   ]
  },
  {
   "cell_type": "code",
   "execution_count": 3,
   "metadata": {
    "pycharm": {
     "name": "#%%\n"
    }
   },
   "outputs": [
    {
     "name": "stdout",
     "output_type": "stream",
     "text": [
      "0        As U.S. budget fight looms, Republicans flip t...\n",
      "1        U.S. military to accept transgender recruits o...\n",
      "2        Senior U.S. Republican senator: 'Let Mr. Muell...\n",
      "3        FBI Russia probe helped by Australian diplomat...\n",
      "4        Trump wants Postal Service to charge 'much mor...\n",
      "                               ...                        \n",
      "21412    'Fully committed' NATO backs new U.S. approach...\n",
      "21413    LexisNexis withdrew two products from Chinese ...\n",
      "21414    Minsk cultural hub becomes haven from authorit...\n",
      "21415    Vatican upbeat on possibility of Pope Francis ...\n",
      "21416    Indonesia to buy $1.14 billion worth of Russia...\n",
      "Name: documento, Length: 21417, dtype: object\n"
     ]
    }
   ],
   "source": [
    "stemmer = WordNetLemmatizer()\n",
    "def regex_filter(text):\n",
    "        # Remove all the special characters\n",
    "    document = re.sub(r'\\W', ' ', text)\n",
    "\n",
    "    # remove all single characters\n",
    "    document = re.sub(r'\\s+[a-zA-Z]\\s+', ' ', document)\n",
    "\n",
    "    # Remove single characters from the start\n",
    "    document = re.sub(r'\\^[a-zA-Z]\\s+', ' ', document)\n",
    "\n",
    "    # Substituting multiple spaces with single space\n",
    "    document = re.sub(r'\\s+', ' ', document, flags=re.I)\n",
    "\n",
    "    # Removing prefixed 'b'\n",
    "    document = re.sub(r'^b\\s+', '', document)\n",
    "\n",
    "    # Converting to Lowercase\n",
    "    document = document.lower()\n",
    "\n",
    "    # Lemmatization\n",
    "    document = document.split()\n",
    "\n",
    "    document = [stemmer.lemmatize(word) for word in document]\n",
    "    document = ' '.join(document)\n",
    "\n",
    "    return document\n",
    "\n",
    "datos_true['documento'].apply(regex_filter)\n",
    "datos_false['documento'].apply(regex_filter)\n",
    "\n",
    "print(datos_true['documento'])"
   ]
  },
  {
   "cell_type": "markdown",
   "metadata": {},
   "source": [
    "## Text to number (Bag of words)\n",
    "Se pasan las columnas con los datos relevantes a una lista y se concatenan\n",
    " con la de noticias ciertas primero (súper importante por cómo se contruyó el arreglo `Target`).\n",
    "Luego se vectoriza la información de texto que pasamos. Los parámetros representan lo siguiente:\n",
    "`max_feature` es el límite de palabras a vectorizas, es decir, solo se tendrán en cuenta las 2000 palabras\n",
    "más frecuentes en este caso. `min_df` es la cantidad mínima de datos que debe contener una palabra para que\n",
    "se tenga en cuenta. `max_df` es el porcentaje másximo de datos que pueden contener una palabra para que se tenga en cuenta.\n",
    "En este caso descartamos las palabras que aparezcan en más del 70% de datos. `Stop word` es el diccionario\n",
    "para filtrar palabras vacías."
   ]
  },
  {
   "cell_type": "code",
   "execution_count": 4,
   "metadata": {
    "pycharm": {
     "name": "#%%\n"
    }
   },
   "outputs": [],
   "source": [
    "documents = datos_true['documento'].to_list() + datos_false['documento'].to_list()\n",
    "vectorizer = CountVectorizer(max_features=2000, min_df=5, max_df=0.7, stop_words=stopwords.words('english'))\n",
    "X = vectorizer.fit_transform(documents).toarray()\n"
   ]
  },
  {
   "cell_type": "markdown",
   "source": [
    "## Análisis de ocurrencias\n",
    "\n",
    "Se hizo un pequeño análisis de los datos de frecuencias de palabras para ver cómo\n",
    " se comportaban estas en las noticias de nuestra fuente de datos"
   ],
   "metadata": {
    "collapsed": false
   }
  },
  {
   "cell_type": "code",
   "source": [
    "vectorizer_verdaderas = CountVectorizer(max_features=2000, min_df=5, max_df=0.7, stop_words=stopwords.words('english'))\n",
    "vectorizer_falsas = CountVectorizer(max_features=2000, min_df=5, max_df=0.7, stop_words=stopwords.words('english'))\n",
    "\n",
    "# Buscar occurencias\n",
    "freq_T = vectorizer_verdaderas.fit_transform(datos_true['documento'].to_list())\n",
    "freq_F = vectorizer_falsas.fit_transform(datos_false['documento'].to_list())\n",
    "\n",
    "# sumar ocurrencias\n",
    "freq_T = np.asarray(freq_T.sum(axis=0)).reshape(2000)\n",
    "freq_F = np.asarray(freq_F.sum(axis=0)).reshape(2000)\n",
    "\n",
    "dict_T = vectorizer_verdaderas.vocabulary_\n",
    "dict_F = vectorizer_falsas.vocabulary_\n",
    "\n",
    "#Se le asigna la frecuencia a cada palabra\n",
    "dict_T = {key: freq_T[dict_T[key]] for key in dict_T.keys()}\n",
    "dict_F = {key: freq_F[dict_F[key]] for key in dict_F.keys()}\n",
    "\n",
    "# #Ordenar\n",
    "dict_T = {dict_T: v for dict_T, v in sorted(dict_T.items(), key=lambda item: item[1], reverse=True)}\n",
    "dict_F = {dict_F: v for dict_F, v in sorted(dict_F.items(), key=lambda item: item[1], reverse=True)}\n",
    "\n",
    "# #Obtener 20 palabras más frecuentes\n",
    "\n",
    "dict_T = {k: dict_T[k] for k in list(dict_T)[:20]}\n",
    "dict_F = {k: dict_F[k] for k in list(dict_F)[:20]}"
   ],
   "metadata": {
    "collapsed": false,
    "pycharm": {
     "name": "#%%\n"
    }
   },
   "execution_count": 81,
   "outputs": []
  },
  {
   "cell_type": "code",
   "execution_count": 82,
   "outputs": [
    {
     "data": {
      "text/plain": "<Figure size 432x288 with 1 Axes>",
      "image/png": "[encoded data removed]"
     },
     "metadata": {
      "needs_background": "light"
     },
     "output_type": "display_data"
    },
    {
     "data": {
      "text/plain": "<Figure size 432x288 with 1 Axes>",
      "image/png": "[encoded data removed]"
     },
     "metadata": {
      "needs_background": "light"
     },
     "output_type": "display_data"
    }
   ],
   "source": [
    "#Graficar\n",
    "\n",
    "plt.bar(dict_F.keys(), dict_F.values(), width=0.8,color='orange')\n",
    "plt.title('Ocurrencias de palabras en noticias reales')\n",
    "plt.xticks(rotation=270)\n",
    "plt.show()\n",
    "\n",
    "plt.bar(dict_T.keys(), dict_T.values(), width=0.8,color='orange')\n",
    "plt.title('Ocurrencias de palabras en noticias falsas')\n",
    "plt.xticks(rotation=270)\n",
    "plt.show()"
   ],
   "metadata": {
    "collapsed": false,
    "pycharm": {
     "name": "#%%\n"
    }
   }
  },
  {
   "cell_type": "markdown",
   "source": [
    "## Text to number (TFIDF)\n",
    "\n",
    "Esta tranformación es similar a la hecha en Bag of Words pero también tiene en cuenta el peso relativo\n",
    "que tiene una palabra para la frase en donde se encuentra. Esto es, divida la frecuencia absoluta\n",
    "encontrada con Bag of Words por el número de palabras totales del documento"
   ],
   "metadata": {
    "collapsed": false
   }
  },
  {
   "cell_type": "code",
   "execution_count": 5,
   "outputs": [],
   "source": [
    "tfidfconverter = TfidfTransformer()\n",
    "X_tfidf = tfidfconverter.fit_transform(X).toarray()"
   ],
   "metadata": {
    "collapsed": false,
    "pycharm": {
     "name": "#%%\n"
    }
   }
  },
  {
   "cell_type": "code",
   "execution_count": 84,
   "outputs": [
    {
     "name": "stdout",
     "output_type": "stream",
     "text": [
      "(44898, 2000)\n"
     ]
    }
   ],
   "source": [
    "print(X_tfidf.shape)"
   ],
   "metadata": {
    "collapsed": false,
    "pycharm": {
     "name": "#%%\n"
    }
   }
  },
  {
   "cell_type": "markdown",
   "metadata": {},
   "source": [
    "El resultado es una matríz donde cada fila tiene 2000 entradas (1 por palabra encontrada) y el número de filas es\n",
    "igual al número de datos (Noticias verdaderas + noticias falsas)"
   ]
  },
  {
   "cell_type": "markdown",
   "metadata": {},
   "source": [
    "## Training and Testing Sets\n",
    "Divide el conjunto con los datos `X`y la variable `target`. `test_size` representa el tamaño del set de prueba.\n",
    "Hace este proceso de froma equivalente para los datos sacados con TFIDF"
   ]
  },
  {
   "cell_type": "code",
   "execution_count": 5,
   "metadata": {
    "pycharm": {
     "name": "#%%\n"
    }
   },
   "outputs": [],
   "source": [
    "X_train, X_test, y_train, y_test = train_test_split(X, target, test_size=0.3, random_state=10)"
   ]
  },
  {
   "cell_type": "code",
   "execution_count": 6,
   "outputs": [],
   "source": [
    "X_train_tfidf, X_test_tfidf, y_train_tfidf, y_test_tfidf = train_test_split(X_tfidf, target, test_size=0.3, random_state=10)"
   ],
   "metadata": {
    "collapsed": false,
    "pycharm": {
     "name": "#%%\n"
    }
   }
  },
  {
   "cell_type": "code",
   "execution_count": 9,
   "metadata": {
    "pycharm": {
     "name": "#%%\n"
    }
   },
   "outputs": [
    {
     "name": "stdout",
     "output_type": "stream",
     "text": [
      "(31428, 2000)\n"
     ]
    }
   ],
   "source": [
    "print(X_train.shape)"
   ]
  },
  {
   "cell_type": "markdown",
   "metadata": {},
   "source": [
    "## Training Text Classification Model\n",
    "Aplicación del algoritmo deseado, en este caso un RandomForest"
   ]
  },
  {
   "cell_type": "markdown",
   "source": [
    "### Entrenamiento del algoritmo para la bolsa de palabras"
   ],
   "metadata": {
    "collapsed": false
   }
  },
  {
   "cell_type": "code",
   "execution_count": 6,
   "metadata": {
    "pycharm": {
     "name": "#%%\n"
    }
   },
   "outputs": [],
   "source": [
    "classifier = RandomForestClassifier(n_estimators=1000, random_state=0, n_jobs=-1)\n",
    "classifier.fit(X_train, y_train)\n",
    "y_pred = classifier.predict(X_test)"
   ]
  },
  {
   "cell_type": "markdown",
   "source": [
    "### Entrenamiento del algoritmo para TFIDF"
   ],
   "metadata": {
    "collapsed": false
   }
  },
  {
   "cell_type": "code",
   "execution_count": 10,
   "outputs": [],
   "source": [
    "classifier_tfidf = RandomForestClassifier(n_estimators=1000, random_state=0, n_jobs=-1)\n",
    "classifier_tfidf.fit(X_train_tfidf, y_train_tfidf)\n",
    "y_pred_tfidf = classifier_tfidf.predict(X_test_tfidf)"
   ],
   "metadata": {
    "collapsed": false,
    "pycharm": {
     "name": "#%%\n"
    }
   }
  },
  {
   "cell_type": "markdown",
   "metadata": {},
   "source": [
    "## Evaluación de Bolsa de palabras"
   ]
  },
  {
   "cell_type": "code",
   "execution_count": 7,
   "metadata": {
    "pycharm": {
     "name": "#%%\n"
    }
   },
   "outputs": [
    {
     "name": "stdout",
     "output_type": "stream",
     "text": [
      "[[7043   13]\n",
      " [   4 6410]]\n",
      "              precision    recall  f1-score   support\n",
      "\n",
      "         0.0       1.00      1.00      1.00      7056\n",
      "         1.0       1.00      1.00      1.00      6414\n",
      "\n",
      "    accuracy                           1.00     13470\n",
      "   macro avg       1.00      1.00      1.00     13470\n",
      "weighted avg       1.00      1.00      1.00     13470\n",
      "\n",
      "0.9987379361544172\n"
     ]
    }
   ],
   "source": [
    "print(confusion_matrix(y_test,y_pred))\n",
    "print(classification_report(y_test,y_pred))\n",
    "print(accuracy_score(y_test, y_pred))\n"
   ]
  },
  {
   "cell_type": "markdown",
   "source": [
    "### Evaluación de TFIDF"
   ],
   "metadata": {
    "collapsed": false
   }
  },
  {
   "cell_type": "code",
   "execution_count": 12,
   "outputs": [
    {
     "name": "stdout",
     "output_type": "stream",
     "text": [
      "[[7043   13]\n",
      " [   7 6407]]\n",
      "              precision    recall  f1-score   support\n",
      "\n",
      "         0.0       1.00      1.00      1.00      7056\n",
      "         1.0       1.00      1.00      1.00      6414\n",
      "\n",
      "    accuracy                           1.00     13470\n",
      "   macro avg       1.00      1.00      1.00     13470\n",
      "weighted avg       1.00      1.00      1.00     13470\n",
      "\n",
      "0.9985152190051967\n"
     ]
    }
   ],
   "source": [
    "print(confusion_matrix(y_test_tfidf,y_pred_tfidf))\n",
    "print(classification_report(y_test_tfidf,y_pred_tfidf))\n",
    "print(accuracy_score(y_test_tfidf, y_pred_tfidf))\n"
   ],
   "metadata": {
    "collapsed": false,
    "pycharm": {
     "name": "#%%\n"
    }
   }
  },
  {
   "cell_type": "markdown",
   "metadata": {},
   "source": [
    "### Aplicación de KNN\n",
    "Además de usar Random Forest, se aplicó KNN para ver cómo se comportaría\n",
    "un algoritmo más sencillo con nuestros datos.\n",
    "\n",
    "#### Cross Validation\n",
    "Primero hizo una validación cruzada para encontrar un valor óptimo para K. Esta validación\n",
    "la hicimos entre k=3 y k=6 para encontrar el parámetro que mejor rendimiento tuviese.\n",
    "Como medida usamos la precisión de cada iteración.\n"
   ]
  },
  {
   "cell_type": "code",
   "execution_count": null,
   "metadata": {
    "pycharm": {
     "name": "#%%\n"
    }
   },
   "outputs": [],
   "source": [
    "accuracy = []\n",
    "for k in range(3 , 7):\n",
    "    #Explain the logic behind the selection of 'init' & 'algorithm' arguments\n",
    "    knn_model = KNeighborsClassifier(n_neighbors=k, n_jobs=-1)\n",
    "    knn_model.fit(X_train, y_train)\n",
    "    y_pred = knn_model.predict(X_test)\n",
    "    accuracy.append(accuracy_score(y_test, y_pred))\n",
    "\n",
    "import matplotlib.pyplot as plt\n",
    "\n",
    "plt.figure(1 , figsize = (15 ,6))\n",
    "plt.plot(np.arange(3, 7) , accuracy , 'o')\n",
    "plt.plot(np.arange(3, 7) , accuracy , '-' , alpha = 0.5)\n",
    "plt.xlabel('K - Cantidad de vecinos') , plt.ylabel('Precisión')\n",
    "plt.show()"
   ]
  },
  {
   "cell_type": "markdown",
   "source": [
    "## Ejecución con K=3"
   ],
   "metadata": {
    "collapsed": false
   }
  },
  {
   "cell_type": "code",
   "execution_count": 8,
   "outputs": [],
   "source": [
    "knn_model = KNeighborsClassifier(n_neighbors=3, n_jobs=-1)\n",
    "knn_model.fit(X_train, y_train)\n",
    "y_pred = knn_model.predict(X_test)"
   ],
   "metadata": {
    "collapsed": false,
    "pycharm": {
     "name": "#%%\n"
    }
   }
  },
  {
   "cell_type": "markdown",
   "metadata": {},
   "source": [
    "## Evaluación de KNN\n"
   ]
  },
  {
   "cell_type": "code",
   "execution_count": 9,
   "metadata": {
    "pycharm": {
     "name": "#%%\n"
    }
   },
   "outputs": [
    {
     "name": "stdout",
     "output_type": "stream",
     "text": [
      "[[6058  998]\n",
      " [1471 4943]]\n",
      "              precision    recall  f1-score   support\n",
      "\n",
      "         0.0       0.80      0.86      0.83      7056\n",
      "         1.0       0.83      0.77      0.80      6414\n",
      "\n",
      "    accuracy                           0.82     13470\n",
      "   macro avg       0.82      0.81      0.82     13470\n",
      "weighted avg       0.82      0.82      0.82     13470\n",
      "\n",
      "0.8167037861915367\n"
     ]
    }
   ],
   "source": [
    "print(confusion_matrix(y_test,y_pred))\n",
    "print(classification_report(y_test,y_pred))\n",
    "print(accuracy_score(y_test, y_pred))"
   ]
  },
  {
   "cell_type": "markdown",
   "metadata": {},
   "source": [
    "## Saving Model"
   ]
  },
  {
   "cell_type": "code",
   "execution_count": null,
   "metadata": {
    "pycharm": {
     "name": "#%%\n"
    }
   },
   "outputs": [],
   "source": [
    "with open('RF_classifier_n_5000', 'wb') as picklefile:\n",
    "    pickle.dump(classifier,picklefile)"
   ]
  },
  {
   "cell_type": "code",
   "execution_count": null,
   "outputs": [],
   "source": [
    "with open('../RF_classifier_n_5000', 'rb') as training_model:\n",
    "    model = pickle.load(training_model)\n"
   ],
   "metadata": {
    "collapsed": false,
    "pycharm": {
     "name": "#%%\n"
    }
   }
  }
 ],
 "metadata": {
  "kernelspec": {
   "display_name": "Python 3",
   "language": "python",
   "name": "python3"
  },
  "language_info": {
   "codemirror_mode": {
    "name": "ipython",
    "version": 3
   },
   "file_extension": ".py",
   "mimetype": "text/x-python",
   "name": "python",
   "nbconvert_exporter": "python",
   "pygments_lexer": "ipython3",
   "version": "3.7.7"
  }
 },
 "nbformat": 4,
 "nbformat_minor": 1
}