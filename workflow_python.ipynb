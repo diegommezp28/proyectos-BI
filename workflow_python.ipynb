{
 "cells": [
  {
   "cell_type": "code",
   "execution_count": 1,
   "metadata": {
    "collapsed": true
   },
   "outputs": [
    {
     "name": "stderr",
     "output_type": "stream",
     "text": [
      "[nltk_data] Downloading package stopwords to\n",
      "[nltk_data]     /home/diegogomez/nltk_data...\n",
      "[nltk_data]   Package stopwords is already up-to-date!\n",
      "[nltk_data] Downloading package wordnet to\n",
      "[nltk_data]     /home/diegogomez/nltk_data...\n",
      "[nltk_data]   Package wordnet is already up-to-date!\n"
     ]
    }
   ],
   "source": [
    "import numpy as np\n",
    "import re\n",
    "import nltk\n",
    "from sklearn.datasets import load_files\n",
    "from sklearn.ensemble import RandomForestClassifier\n",
    "from sklearn.neighbors import KNeighborsClassifier\n",
    "nltk.download('stopwords')\n",
    "nltk.download('wordnet')\n",
    "import pickle\n",
    "import pandas as pd\n",
    "from nltk.stem import WordNetLemmatizer\n",
    "from sklearn.feature_extraction.text import CountVectorizer\n",
    "from nltk.corpus import stopwords\n",
    "from sklearn.model_selection import train_test_split\n",
    "from sklearn.metrics import classification_report, confusion_matrix, accuracy_score\n"
   ]
  },
  {
   "cell_type": "markdown",
   "metadata": {},
   "source": [
    "### Import the Dataset\n",
    "\n",
    "En este paso se importan los dos archivos de datos desde la carpeta `./docs`.\n",
    "Luego se crea una nueva columna en cada Dataframe que representa el documento completo\n",
    "(Titulo + contenido). Se le hace `drop` al resto de columnas.\n",
    "El arreglo `targert` se construye a partir de los archivos anteriores, la idea es que sea un arreglo\n",
    "de dimensión (n,1) donde n es la suma de el tamaño de los documentos anteriores. Además, los primeros k valores\n",
    "se marcarán con 1, donde k es el tamaño de los datos de noticias reales, el resto son ceros representando las falsas.\n"
   ]
  },
  {
   "cell_type": "code",
   "execution_count": 2,
   "metadata": {
    "pycharm": {
     "name": "#%%\n"
    }
   },
   "outputs": [
    {
     "name": "stdout",
     "output_type": "stream",
     "text": [
      "[1. 1. 1. ... 0. 0. 0.]\n",
      "44898\n"
     ]
    }
   ],
   "source": [
    "datos_true = pd.read_csv('data/pos/True.csv')\n",
    "datos_false = pd.read_csv('data/neg/Fake.csv')\n",
    "\n",
    "datos_true['documento'] = datos_true['title']+ datos_true['text']\n",
    "datos_false['documento'] = datos_false['title'] + datos_false['text']\n",
    "\n",
    "target_true = np.ones(len(datos_true['documento']))\n",
    "target_false = np.zeros(len(datos_false['documento']))\n",
    "target = np.concatenate((target_true, target_false))\n",
    "# target = target.reshape((len(target), 1))\n",
    "datos_true.drop(columns=['title', 'text', 'subject', 'date'], axis=1, inplace=True)\n",
    "datos_false.drop(columns=['title', 'text', 'subject', 'date'], axis=1, inplace=True)\n",
    "\n",
    "#datos = load_files(container_path='./data')\n",
    "#X = []\n",
    "print(target)\n",
    "print(len(target))"
   ]
  },
  {
   "cell_type": "markdown",
   "metadata": {},
   "source": [
    "## Preprocesamiento\n",
    "\n",
    "Se le aplica a cada Dataframe un filtrado de caracteres con poco valor para el modelo."
   ]
  },
  {
   "cell_type": "code",
   "execution_count": 3,
   "metadata": {
    "pycharm": {
     "name": "#%%\n"
    }
   },
   "outputs": [
    {
     "name": "stdout",
     "output_type": "stream",
     "text": [
      "0        As U.S. budget fight looms, Republicans flip t...\n",
      "1        U.S. military to accept transgender recruits o...\n",
      "2        Senior U.S. Republican senator: 'Let Mr. Muell...\n",
      "3        FBI Russia probe helped by Australian diplomat...\n",
      "4        Trump wants Postal Service to charge 'much mor...\n",
      "                               ...                        \n",
      "21412    'Fully committed' NATO backs new U.S. approach...\n",
      "21413    LexisNexis withdrew two products from Chinese ...\n",
      "21414    Minsk cultural hub becomes haven from authorit...\n",
      "21415    Vatican upbeat on possibility of Pope Francis ...\n",
      "21416    Indonesia to buy $1.14 billion worth of Russia...\n",
      "Name: documento, Length: 21417, dtype: object\n"
     ]
    }
   ],
   "source": [
    "stemmer = WordNetLemmatizer()\n",
    "def regex_filter(text):\n",
    "        # Remove all the special characters\n",
    "    document = re.sub(r'\\W', ' ', text)\n",
    "\n",
    "    # remove all single characters\n",
    "    document = re.sub(r'\\s+[a-zA-Z]\\s+', ' ', document)\n",
    "\n",
    "    # Remove single characters from the start\n",
    "    document = re.sub(r'\\^[a-zA-Z]\\s+', ' ', document)\n",
    "\n",
    "    # Substituting multiple spaces with single space\n",
    "    document = re.sub(r'\\s+', ' ', document, flags=re.I)\n",
    "\n",
    "    # Removing prefixed 'b'\n",
    "    document = re.sub(r'^b\\s+', '', document)\n",
    "\n",
    "    # Converting to Lowercase\n",
    "    document = document.lower()\n",
    "\n",
    "    # Lemmatization\n",
    "    document = document.split()\n",
    "\n",
    "    document = [stemmer.lemmatize(word) for word in document]\n",
    "    document = ' '.join(document)\n",
    "\n",
    "    return document\n",
    "\n",
    "datos_true['documento'].apply(regex_filter)\n",
    "datos_false['documento'].apply(regex_filter)\n",
    "\n",
    "print(datos_true['documento'])"
   ]
  },
  {
   "cell_type": "markdown",
   "metadata": {},
   "source": [
    "## Text to number\n",
    "Se pasan las columnas con los datos relevantes a una lista y se concatenan\n",
    " con la de noticias ciertas primero (súper importante por cómo se contruyó el arreglo `Target`).\n",
    "Luego se vectoriza la información de texto que pasamos. Los parámetros representan lo siguiente:\n",
    "`max_feature` es el límite de palabras a vectorizas, es decir, solo se tendrán en cuenta las 2000 palabras\n",
    "más frecuentes en este caso. `min_df` es la cantidad mínima de datos que debe contener una palabra para que\n",
    "se tenga en cuenta. `max_df` es el porcentaje másximo de datos que pueden contener una palabra para que se tenga en cuenta.\n",
    "En este caso descartamos las palabras que aparezcan en más del 70% de datos. `Stop word` es el diccionario\n",
    "para filtrar palabras vacías."
   ]
  },
  {
   "cell_type": "code",
   "execution_count": 4,
   "metadata": {
    "pycharm": {
     "name": "#%%\n"
    }
   },
   "outputs": [],
   "source": [
    "documents = datos_true['documento'].to_list() + datos_false['documento'].to_list()\n",
    "vectorizer = CountVectorizer(max_features=2000, min_df=5, max_df=0.7, stop_words=stopwords.words('english'))\n",
    "X = vectorizer.fit_transform(documents).toarray()"
   ]
  },
  {
   "cell_type": "markdown",
   "metadata": {},
   "source": [
    "El resultado es una matríz donde cada fila tiene 2000 entradas (1 por palabra encontrada) y el número de filas es\n",
    "igual al número de datos (Noticias verdaderas + noticias falsas)"
   ]
  },
  {
   "cell_type": "code",
   "execution_count": 5,
   "metadata": {
    "pycharm": {
     "name": "#%%\n"
    }
   },
   "outputs": [
    {
     "name": "stdout",
     "output_type": "stream",
     "text": [
      "{'budget': 283, 'fight': 687, 'republicans': 1519, 'fiscal': 706, 'reuters': 1543, 'head': 813, 'conservative': 431, 'republican': 1518, 'congress': 427, 'voted': 1916, 'month': 1154, 'huge': 853, 'national': 1181, 'debt': 510, 'pay': 1294, 'tax': 1786, 'cuts': 493, 'called': 296, 'sunday': 1757, 'urged': 1886, '2018': 24, 'keeping': 971, 'way': 1938, 'among': 131, 'representative': 1515, 'mark': 1091, 'speaking': 1699, 'cbs': 328, 'face': 653, 'nation': 1180, 'drew': 574, 'hard': 810, 'line': 1045, 'federal': 681, 'spending': 1705, 'lawmakers': 1007, 'battle': 221, 'january': 943, 'return': 1540, 'wednesday': 1944, 'begin': 226, 'trying': 1862, 'pass': 1289, 'likely': 1042, 'linked': 1047, 'issues': 938, 'immigration': 872, 'policy': 1333, 'even': 629, 'november': 1216, 'congressional': 428, 'election': 598, 'campaigns': 302, 'approach': 154, 'seek': 1611, 'keep': 970, 'control': 443, 'president': 1366, 'donald': 566, 'trump': 1858, 'want': 1926, 'big': 245, 'increase': 884, 'military': 1138, 'democrats': 531, 'also': 121, 'non': 1208, 'defense': 524, 'programs': 1394, 'support': 1759, 'education': 589, 'research': 1524, 'infrastructure': 896, 'public': 1421, 'health': 815, 'environmental': 616, 'protection': 1412, 'administration': 79, 'already': 120, 'willing': 1960, 'say': 1585, 'going': 775, 'percent': 1304, 'chairman': 336, 'small': 1677, 'house': 849, 'freedom': 736, 'program': 1393, 'saying': 1586, 'enough': 611, 'need': 1190, 'give': 766, 'government': 780, 'raise': 1444, '10': 1, '11': 3, 'see': 1609, 'eventually': 633, 'run': 1567, 'people': 1302, 'money': 1153, 'late': 1000, 'december': 514, 'party': 1288, 'expected': 646, 'add': 73, 'years': 1990, '20': 12, 'hear': 817, 'talk': 1781, 'responsibility': 1533, 'democratic': 530, 'bill': 247, 'would': 1983, 'require': 1522, 'united': 1881, 'states': 1728, 'paid': 1270, 'future': 749, 'finance': 696, 'rich': 1547, 'one': 1239, 'least': 1018, 'responsible': 1534, 'bills': 250, 'ever': 634, 'seen': 1616, 'passed': 1290, 'history': 834, 'representatives': 1516, 'think': 1813, 'paying': 1295, 'many': 1088, 'come': 394, 'biggest': 246, '30': 36, 'boost': 263, 'economy': 588, 'job': 949, 'growth': 792, 'speaker': 1698, 'paul': 1293, 'ryan': 1573, 'supported': 1760, 'recently': 1471, 'went': 1949, 'making': 1083, 'clear': 378, 'radio': 1443, 'interview': 912, 'reform': 1478, 'often': 1234, 'calls': 298, 'top': 1837, 'mean': 1107, 'food': 719, 'housing': 850, 'assistance': 179, 'medicaid': 1113, 'insurance': 903, 'poor': 1342, 'well': 1948, 'created': 474, 'washington': 1933, 'early': 583, 'remarks': 1500, 'showed': 1655, 'try': 1861, 'seeking': 1612, 'social': 1679, 'may': 1102, 'take': 1777, 'back': 204, 'seat': 1601, 'senate': 1620, 'votes': 1919, 'needed': 1191, 'prevent': 1372, 'use': 1888, 'defend': 523, 'issue': 936, 'brought': 280, 'illegally': 864, 'country': 464, 'children': 351, 'september': 1631, 'put': 1428, 'march': 1089, 'date': 499, 'action': 63, 'young': 1996, 'immigrants': 871, 'work': 1973, 'recent': 1470, 'twitter': 1872, 'wants': 1928, 'funding': 747, 'proposed': 1408, 'mexican': 1126, 'border': 264, 'wall': 1925, 'law': 1005, 'changes': 343, 'exchange': 642, 'help': 824, 'told': 1833, 'favor': 675, 'clean': 377, 'aides': 101, 'meet': 1115, 'leaders': 1014, 'discuss': 555, 'followed': 717, 'weekend': 1946, 'strategy': 1741, 'sessions': 1641, 'jan': 942, 'white': 1954, 'scheduled': 1591, 'florida': 712, 'governor': 782, 'scott': 1596, 'emergency': 605, 'aid': 99, 'billion': 248, 'texas': 1808, 'puerto': 1424, 'rico': 1549, 'california': 294, 'far': 672, 'yet': 1994, 'accept': 53, 'transgender': 1846, 'monday': 1152, 'allowed': 114, 'first': 705, 'time': 1829, 'starting': 1723, 'ordered': 1255, 'courts': 470, 'pentagon': 1301, 'friday': 738, 'decided': 516, 'appeal': 147, 'blocked': 257, 'ban': 211, 'two': 1873, 'appeals': 148, 'virginia': 1910, 'last': 999, 'week': 1945, 'rejected': 1489, 'request': 1520, 'hold': 836, 'orders': 1256, 'lower': 1071, 'court': 469, 'judges': 964, 'justice': 969, 'department': 534, 'official': 1232, 'challenge': 337, 'announced': 137, 'independent': 889, 'study': 1749, 'coming': 397, 'weeks': 1947, 'rather': 1454, 'wait': 1923, 'continue': 440, 'authority': 198, 'district': 559, 'condition': 418, 'panel': 1274, 'senior': 1625, 'officials': 1233, 'individuals': 892, 'serving': 1640, '21': 25, 'plan': 1317, 'lawyers': 1011, 'currently': 491, 'service': 1638, 'members': 1120, 'majority': 1080, 'supreme': 1766, 'happen': 805, 'spokeswoman': 1710, 'statement': 1726, 'order': 1254, 'prepared': 1362, 'must': 1174, 'standards': 1718, 'lawyer': 1010, 'gay': 753, 'group': 789, 'decision': 517, 'great': 785, 'news': 1199, 'means': 1108, 'good': 777, 'american': 128, 'civil': 369, 'union': 1880, 'filed': 692, 'move': 1161, 'supporters': 1762, 'july': 967, 'barack': 217, 'obama': 1221, 'cannot': 307, 'medical': 1114, 'costs': 458, 'four': 730, 'issued': 937, 'legal': 1026, 'challenges': 338, 'right': 1551, 'constitution': 437, 'dec': 511, 'sex': 1645, 'identified': 862, 'previously': 1374, 'armed': 164, 'forces': 722, 'thousands': 1819, 'process': 1388, 'might': 1132, 'set': 1642, '2017': 23, 'secretary': 1605, 'james': 941, 'mattis': 1101, 'taken': 1778, 'steps': 1733, 'aimed': 102, 'rights': 1552, 'october': 1225, 'gender': 754, 'based': 219, 'discrimination': 554, 'protect': 1411, 'employees': 606, 'another': 140, 'era': 618, 'position': 1346, 'february': 679, 'schools': 1593, 'allow': 113, 'students': 1748, 'senator': 1621, 'let': 1030, 'mr': 1165, 'mueller': 1168, 'special': 1700, 'counsel': 461, 'investigation': 915, 'links': 1048, 'russia': 1570, '2016': 22, 'campaign': 301, 'without': 1968, 'interference': 908, 'despite': 538, 'allies': 112, 'shut': 1659, 'graham': 783, 'judiciary': 966, 'robert': 1557, 'needs': 1192, 'carry': 316, 'political': 1334, 'go': 771, 'forward': 726, 'conducted': 421, 'influence': 894, 'guy': 797, 'question': 1433, 'co': 387, 'effort': 591, 'since': 1670, 'took': 1836, 'office': 1229, 'shows': 1658, 'sign': 1663, 'second': 1603, 'year': 1989, 'power': 1357, 'rhetoric': 1546, 'team': 1790, 'seemed': 1614, 'new': 1198, 'york': 1995, 'times': 1830, 'fair': 663, 'role': 1559, 'possible': 1350, 'focus': 714, 'multiple': 1170, 'three': 1824, 'investigating': 914, 'whose': 1956, 'earlier': 582, 'probe': 1385, 'launched': 1004, 'bureau': 287, 'fbi': 676, 'several': 1644, 'convicted': 449, 'collusion': 392, 'kremlin': 988, 'denied': 532, 'still': 1735, 'former': 725, 'british': 276, 'saturday': 1581, 'reported': 1509, 'foreign': 723, 'adviser': 82, 'george': 756, 'information': 895, 'rival': 1555, 'hillary': 833, 'clinton': 381, 'look': 1060, 'used': 1889, 'matter': 1099, 'fact': 658, 'hurt': 858, 'us': 1887, 'helped': 825, 'presidential': 1367, 'candidate': 305, 'conversation': 448, 'london': 1057, 'driving': 576, 'behind': 230, 'open': 1243, 'counter': 462, 'intelligence': 904, 'moscow': 1158, 'months': 1155, 'meeting': 1116, 'came': 299, 'emails': 603, 'began': 225, 'online': 1242, 'according': 55, 'newspaper': 1200, 'cited': 363, 'current': 490, 'governments': 781, 'including': 882, 'chicago': 348, 'international': 910, 'energy': 609, 'guilty': 794, 'oct': 1224, 'lying': 1072, 'agents': 93, 'claimed': 372, 'ties': 1827, 'russian': 1571, 'criminal': 478, 'charge': 344, 'played': 1323, 'aide': 100, 'extremely': 652, 'limited': 1044, 'actions': 64, 'however': 851, 'al': 105, 'major': 1079, 'speech': 1703, 'april': 157, 'led': 1022, 'almost': 117, 'ago': 94, 'accused': 59, 'immediately': 869, 'respond': 1530, 'requests': 1521, 'comment': 399, 'declined': 520, 'attorney': 193, 'report': 1508, 'respect': 1529, 'matters': 1100, 'charged': 345, 'much': 1167, 'criticized': 482, 'past': 1291, 'post': 1352, 'losing': 1065, 'dollars': 564, 'others': 1261, 'little': 1052, 'wrote': 1987, 'tweet': 1869, 'attention': 192, 'millions': 1140, 'loss': 1066, 'agency': 90, 'within': 1967, 'receive': 1468, 'website': 1943, 'become': 223, 'increasingly': 886, 'important': 874, 'part': 1281, 'business': 289, 'internet': 911, 'amount': 132, 'class': 375, 'rates': 1453, 'commission': 401, 'parties': 1284, 'raised': 1445, 'prices': 1376, 'jeff': 945, 'remains': 1499, 'chief': 349, 'executive': 643, 'officer': 1230, 'company': 411, 'person': 1307, 'world': 1978, 'repeatedly': 1506, 'media': 1112, 'tweets': 1871, 'stories': 1739, 'sales': 1576, 'true': 1856, 'businessman': 291, 'reality': 1463, 'television': 1794, 'host': 845, 'companies': 410, 'could': 459, 'warning': 1931, 'concerned': 416, 'price': 1375, 'risk': 1554, 'clearly': 379, 'aware': 202, 'building': 285, 'system': 1774, 'shown': 1657, 'interest': 906, '2015': 21, 'spent': 1706, 'total': 1838, '90': 46, 'inc': 877, 'data': 498, 'idea': 861, 'charges': 346, 'less': 1029, 'corp': 453, 'players': 1324, 'get': 760, 'services': 1639, 'million': 1139, 'day': 502, 'end': 607, 'agreement': 97, 'mail': 1076, 'third': 1816, 'debate': 509, 'whether': 1953, 'kept': 973, 'rise': 1553, 'private': 1382, 'like': 1041, 'long': 1058, 'steve': 1734, 'spokesman': 1709, 'noted': 1213, 'values': 1891, 'relationship': 1492, 'concerns': 417, 'available': 199, 'annual': 139, 'lost': 1067, '2014': 20, '19': 11, 'ended': 608, 'sept': 1630, 'facing': 657, 'growing': 791, 'particularly': 1283, 'benefits': 237, 'plans': 1320, 'cut': 492, 'cover': 471, 'though': 1817, '28': 34, 'talks': 1783, 'next': 1201, 'legislative': 1028, 'activity': 69, 'comes': 395, 'stage': 1714, 'elections': 599, 'seats': 1602, 'away': 203, 'affairs': 83, 'director': 552, 'short': 1652, 'leader': 1013, 'mitch': 1150, 'mcconnell': 1106, 'chuck': 360, 'schumer': 1594, 'pelosi': 1298, 'camp': 300, 'david': 501, 'returns': 1542, 'term': 1799, 'taking': 1780, 'christmas': 359, 'break': 268, 'various': 1892, 'domestic': 565, 'agenda': 91, 'disaster': 553, 'hit': 835, 'asked': 174, 'figure': 690, 'soon': 1687, 'known': 984, 'provided': 1418, 'giving': 769, 'solution': 1682, 'number': 1218, 'large': 996, 'pushed': 1426, 'security': 1608, 'oppose': 1251, 'promised': 1400, 'along': 119, 'fully': 744, 'understand': 1879, 'southern': 1694, 'ridiculous': 1550, 'rules': 1565, 'families': 669, 'live': 1053, 'kids': 975, 'promise': 1399, 'avoid': 201, 'treasury': 1849, 'cash': 321, 'victory': 1902, 'says': 1587, 'unclear': 1878, 'thursday': 1826, 'believes': 234, 'treated': 1850, 'know': 983, 'appeared': 151, 'agencies': 89, 'tried': 1853, 'defeat': 522, 'democrat': 529, 'hacking': 798, 'propaganda': 1404, 'described': 536, 'club': 385, 'west': 1950, 'deputy': 535, 'general': 755, 'quickly': 1436, 'possibly': 1351, 'tell': 1795, 'thought': 1818, 'makes': 1082, 'bad': 208, 'done': 567, 'really': 1464, 'base': 218, 'made': 1074, 'strong': 1746, 'low': 1070, 'profile': 1392, 'georgia': 757, 'legislation': 1027, 'numbers': 1219, 'trade': 1844, 'spoke': 1708, 'backed': 205, 'chinese': 353, 'hope': 842, 'beijing': 231, 'pressure': 1370, 'north': 1210, 'korea': 986, 'nuclear': 1217, 'missile': 1147, 'results': 1538, 'free': 735, 'mexico': 1127, 'canada': 304, 'prime': 1378, 'minister': 1143, 'oil': 1237, 'looking': 1062, 'countries': 463, 'make': 1081, 'deal': 506, 'pretty': 1371, '29': 35, 'approval': 155, 'following': 718, 'statements': 1727, 'posted': 1353, 'accounts': 57, 'realdonaldtrump': 1462, 'expressed': 651, 'confirmed': 425, 'fake': 665, '2009': 15, 'massive': 1097, 'negative': 1193, 'coverage': 472, 'source': 1691, 'bit': 251, 'global': 770, 'together': 1832, 'america': 127, 'east': 584, 'record': 1472, 'perhaps': 1305, 'old': 1238, 'alabama': 106, 'elect': 596, 'jones': 957, 'today': 1831, 'state': 1724, 'john': 952, 'moore': 1156, 'phone': 1309, 'call': 295, 'cnn': 386, 'faced': 655, 'allegations': 108, 'girls': 765, 'race': 1438, 'judge': 963, 'accusations': 58, 'sexual': 1646, '22': 28, '000': 0, 'points': 1330, 'century': 331, 'win': 1961, 'held': 822, 'board': 259, '100': 2, 'stood': 1736, 'claims': 374, 'released': 1494, 'outlets': 1263, 'block': 256, '12': 4, 'met': 1125, 'alleged': 109, 'potential': 1355, 'voter': 1917, 'fraud': 734, 'chance': 339, 'sought': 1690, 'ask': 173, 'addition': 76, 'fox': 731, 'complete': 413, 'period': 1306, 'show': 1654, 'regarding': 1483, 'claim': 371, 'cases': 320, '60': 44, 'drop': 577, 'women': 1970, 'assault': 177, 'able': 49, 'questions': 1435, 'code': 390, 'high': 828, 'andrew': 135, 'residents': 1525, 'due': 581, 'signed': 1664, 'local': 1056, 'income': 883, 'property': 1405, 'taxes': 1787, 'taxpayers': 1789, 'jersey': 946, 'sure': 1767, 'constitutional': 438, 'something': 1684, 'suggested': 1754, 'politics': 1338, 'amendment': 126, 'better': 241, 'self': 1617, 'life': 1039, 'brown': 281, 'rest': 1535, 'places': 1316, 'heavily': 821, 'blue': 258, 'de': 504, 'effect': 590, 'firm': 703, 'experts': 648, 'lawsuit': 1009, 'professor': 1391, 'university': 1882, 'school': 1592, 'details': 540, '13': 5, '18': 10, 'published': 1423, 'paper': 1275, 'ways': 1939, 'included': 880, 'businesses': 290, 'form': 724, 'higher': 829, 'side': 1661, 'specifically': 1702, 'rate': 1452, 'full': 743, 'pre': 1361, 'allowing': 115, 'payments': 1296, 'internal': 909, 'looks': 1063, 'st': 1712, '27': 33, 'iraq': 926, 'estimated': 624, '35': 39, 'isis': 929, 'fighters': 688, '17': 9, '500': 43, 'miles': 1135, 'territory': 1801, 'syria': 1772, 'via': 1898, 'left': 1024, 'fire': 700, 'men': 1121, 'man': 1084, 'protest': 1413, '25': 31, 'story': 1740, 'name': 1176, 'bernie': 239, 'claiming': 373, 'home': 839, '45': 41, 'county': 465, 'outside': 1264, 'air': 103, 'community': 409, 'tv': 1868, 'nbc': 1186, 'found': 727, 'angry': 136, 'streets': 1743, 'neither': 1195, 'secret': 1604, 'police': 1331, 'incident': 878, 'individual': 891, 'admitted': 80, 'laws': 1008, 'investigate': 913, 'present': 1364, 'illegal': 863, 'bomb': 261, 'opening': 1245, 'photo': 1310, 'agent': 92, 'six': 1676, 'officers': 1231, 'night': 1203, 'asking': 175, 'behavior': 229, 'reached': 1456, 'decide': 515, 'tuesday': 1863, 'latest': 1002, 'point': 1328, 'single': 1671, 'vote': 1915, 'member': 1119, 'delegates': 525, '50': 42, 'ruled': 1564, 'ballot': 210, 'candidates': 306, 'pick': 1312, 'final': 694, 'image': 866, 'names': 1178, 'reporters': 1512, 'case': 319, 'whole': 1955, 'ruling': 1566, 'never': 1197, 'holding': 837, 'considered': 434, 'added': 74, 'believe': 232, 'email': 602, 'nov': 1215, 'owner': 1267, '2013': 19, 'questioned': 1434, 'investigators': 917, 'russians': 1572, 'son': 1686, 'sources': 1692, 'familiar': 668, 'involving': 922, 'jr': 961, 'denies': 533, 'closed': 383, 'citizen': 366, 'born': 266, 'republic': 1517, 'real': 1461, 'estate': 623, 'knew': 982, 'june': 968, 'became': 222, 'attended': 191, 'committee': 404, 'family': 670, 'believed': 233, 'kushner': 990, 'owned': 1266, 'standing': 1719, 'speak': 1697, 'student': 1747, 'billionaire': 249, 'vladimir': 1913, 'putin': 1429, 'evidence': 638, 'release': 1493, 'later': 1001, 'organizations': 1259, 'discussion': 557, 'economic': 587, 'sanctions': 1578, 'ahead': 98, 'bringing': 274, 'promises': 1401, 'ultimately': 1876, 'received': 1469, 'although': 123, 'conference': 422, 'room': 1561, 'serve': 1635, '26': 32, 'obamacare': 1222, 'healthcare': 816, 'dnc': 560, 'funded': 746, 'basis': 220, 'signs': 1666, 'jobs': 950, 'market': 1092, 'center': 329, 'force': 720, 'review': 1545, 'argued': 162, 'required': 1523, 'conduct': 420, 'impact': 873, 'personal': 1308, 'intended': 905, 'groups': 790, 'vice': 1899, 'mike': 1134, 'pence': 1299, 'body': 260, 'hand': 802, 'popular': 1344, 'chair': 335, 'turn': 1866, 'voting': 1920, 'refused': 1482, 'provide': 1417, 'lead': 1012, 'id': 860, 'measures': 1111, 'cast': 322, 'sent': 1627, 'reports': 1514, 'suspected': 1771, 'instead': 900, 'evening': 630, 'door': 569, 'comments': 400, 'reach': 1455, 'inside': 899, 'hollywood': 838, 'film': 693, 'road': 1556, 'hours': 848, 'station': 1729, 'refugee': 1480, 'restrictions': 1536, 'efforts': 592, 'travel': 1848, 'judicial': 965, 'place': 1315, 'refugees': 1481, 'policies': 1332, 'limit': 1043, '24': 30, 'mostly': 1159, 'middle': 1131, 'africa': 86, 'subject': 1752, 'egypt': 593, 'iran': 924, 'libya': 1036, 'south': 1693, 'yemen': 1991, '40': 40, 'stop': 1737, 'start': 1721, 'follow': 716, 'join': 954, 'homeland': 840, 'relief': 1495, 'project': 1397, 'appointed': 153, 'bush': 288, 'version': 1895, 'opinion': 1248, 'takes': 1779, 'enforcement': 610, 'days': 503, 'muslim': 1172, 'immigrant': 870, 'remove': 1502, 'alone': 118, 'child': 350, 'document': 561, 'word': 1971, 'age': 88, 'difficult': 547, 'key': 974, 'goal': 772, 'focused': 715, 'changed': 342, 'advance': 81, 'sit': 1672, 'especially': 621, 'stand': 1716, 'resources': 1528, 'treatment': 1851, 'aliens': 107, 'status': 1730, 'attempt': 187, 'abuse': 52, 'language': 995, 'previous': 1373, 'sitting': 1674, 'association': 181, 'toward': 1841, 'works': 1977, 'levels': 1033, 'central': 330, 'violence': 1908, 'region': 1485, 'caused': 327, 'either': 595, 'serious': 1633, 'kind': 980, '2008': 14, 'anti': 143, 'gets': 761, 'shot': 1653, 'telling': 1796, 'truth': 1860, 'consider': 433, 'prosecutor': 1409, 'range': 1450, 'bring': 273, 'book': 262, 'heard': 818, 'separate': 1629, 'detained': 541, 'powers': 1359, 'terrorism': 1803, 'certain': 333, 'venezuela': 1894, 'mass': 1096, 'protests': 1415, 'targeted': 1785, 'visa': 1911, 'americans': 129, 'safe': 1574, 'bid': 243, 'around': 167, 'page': 1269, 'trial': 1852, 'similar': 1667, 'nothing': 1214, 'message': 1124, 'citizens': 367, 'simply': 1669, 'ready': 1459, 'august': 195, 'gave': 752, 'funds': 748, 'active': 65, 'failed': 660, 'surprise': 1768, 'opposition': 1253, 'broke': 278, 'push': 1425, 'save': 1583, 'looked': 1061, 'potentially': 1356, 'result': 1537, 'lawmaker': 1006, 'father': 674, 'ex': 639, 'prison': 1381, 'leadership': 1015, 'movement': 1163, 'nine': 1204, 'everything': 637, 'negotiations': 1194, 'address': 78, 'spend': 1704, 'half': 799, 'greater': 786, 'politically': 1335, 'different': 546, 'successful': 1753, 'stay': 1731, 'sentence': 1628, 'human': 854, 'crimes': 477, 'credit': 475, 'crisis': 479, 'leftist': 1025, 'activists': 67, 'crowd': 485, 'opposed': 1252, 'please': 1326, 'investment': 918, 'amid': 130, 'hopes': 843, 'scandal': 1589, 'coup': 466, 'corruption': 456, 'sense': 1626, 'journalists': 960, 'bloc': 255, 'cost': 457, 'resignation': 1526, 'cabinet': 293, 'approved': 156, 'wanted': 1927, 'leaving': 1020, 'significant': 1665, 'largest': 998, 'corporate': 454, 'broadcast': 277, 'literally': 1051, 'wealthy': 1940, 'decade': 512, 'largely': 997, 'benefit': 236, 'staff': 1713, 'worked': 1974, 'reporting': 1513, 'financial': 697, 'warned': 1930, 'additional': 77, 'act': 61, 'michael': 1128, 'given': 767, 'flag': 708, 'material': 1098, 'operations': 1247, 'overseas': 1265, 'numerous': 1220, 'beyond': 242, '31': 38, 'getting': 762, 'necessary': 1189, 'analysis': 133, 'tough': 1840, 'love': 1069, 'workers': 1975, 'nobody': 1205, 'working': 1976, 'absolutely': 51, 'things': 1812, 'thank': 1809, 'mainstream': 1078, 'list': 1049, 'minutes': 1146, 'dollar': 563, 'city': 368, 'ministry': 1144, 'response': 1532, 'sector': 1606, 'started': 1722, 'confirmation': 424, 'adding': 75, 'repeal': 1505, 'affordable': 84, 'care': 312, 'areas': 161, 'change': 341, 'frank': 733, 'regulations': 1487, 'institutions': 902, 'pointed': 1329, 'floor': 711, 'throughout': 1825, 'hell': 823, 'reporter': 1511, 'lot': 1068, 'airport': 104, 'projects': 1398, 'find': 698, 'returned': 1541, 'controversial': 445, 'summer': 1755, 'turned': 1867, 'daily': 495, 'failing': 661, 'tweeted': 1870, 'joined': 955, 'visit': 1912, 'game': 750, 'bannon': 216, 'manager': 1087, 'citing': 365, 'pope': 1343, 'wife': 1958, 'ambassador': 125, 'climate': 380, 'jerusalem': 947, 'husband': 859, 'supporter': 1761, 'ally': 116, 'nomination': 1206, 'controversy': 446, 'marriage': 1094, 'involved': 920, '15': 7, 'paris': 1278, 'dialogue': 544, 'israel': 934, 'capital': 308, 'nations': 1182, 'resolution': 1527, 'calling': 297, 'embassy': 604, 'religious': 1497, 'voters': 1918, 'king': 981, 'pennsylvania': 1300, 'congressman': 429, 'winning': 1963, 'nearly': 1188, 'target': 1784, 'positive': 1348, 'agreed': 96, 'committed': 403, 'always': 124, 'felt': 684, 'living': 1055, 'across': 60, 'college': 391, 'thing': 1811, 'got': 779, 'carried': 315, 'referendum': 1476, 'indeed': 887, 'concern': 415, 'poll': 1339, 'running': 1569, 'leave': 1019, 'analysts': 134, 'decisions': 518, 'actually': 71, 'gone': 776, 'views': 1907, 'probably': 1384, 'thinks': 1815, 'average': 200, 'dropped': 578, 'johnson': 953, 'vietnam': 1905, 'war': 1929, '2010': 16, 'highly': 831, 'ability': 48, 'veteran': 1896, 'tells': 1797, 'announcement': 138, 'dozens': 571, 'access': 54, 'partner': 1285, 'hundreds': 856, 'every': 635, 'documents': 562, 'longer': 1059, 'close': 382, '300': 37, 'spread': 1711, 'promote': 1402, 'play': 1322, 'helping': 826, 'conflict': 426, 'lose': 1064, 'reduce': 1475, 'management': 1086, 'activities': 68, 'reason': 1465, 'foundation': 728, 'moved': 1162, 'homes': 841, 'feel': 682, 'sending': 1624, 'written': 1985, 'fund': 745, 'moving': 1164, 'designed': 537, 'controlled': 444, 'lack': 992, 'measure': 1110, 'referring': 1477, 'attempts': 189, 'path': 1292, 'becoming': 224, 'includes': 881, 'surveillance': 1769, 'veterans': 1897, 'guard': 793, 'existing': 644, 'series': 1632, 'continues': 442, 'conservatives': 432, 'build': 284, 'natural': 1184, 'senators': 1622, 'remain': 1498, 'hotel': 846, 'events': 632, 'critics': 483, 'injured': 897, 'industry': 893, 'increased': 885, 'ongoing': 1241, 'inauguration': 876, 'attacks': 186, 'hate': 812, 'named': 1177, 'best': 240, 'include': 879, 'environment': 615, 'culture': 489, 'capitol': 309, 'hill': 832, 'false': 667, 'read': 1458, 'rule': 1563, 'send': 1623, 'related': 1490, 'powerful': 1358, 'happy': 809, 'saw': 1584, 'served': 1636, 'navy': 1185, 'afghanistan': 85, 'goes': 774, 'rally': 1448, 'letter': 1031, 'threats': 1823, 'wing': 1962, 'create': 473, 'waters': 1937, 'press': 1369, 'narrative': 1179, 'fired': 701, 'comey': 396, 'criticism': 481, 'manafort': 1085, 'flynn': 713, 'cause': 326, 'consequences': 430, 'revealed': 1544, 'christian': 357, 'authorities': 197, 'planned': 1318, 'technology': 1791, 'using': 1890, 'someone': 1683, 'else': 601, 'lee': 1023, 'specific': 1701, 'images': 867, 'flight': 709, 'secure': 1607, 'faces': 656, 'meant': 1109, 'area': 160, 'check': 347, 'ensure': 612, 'shared': 1648, 'critical': 480, 'jim': 948, 'fuel': 742, 'china': 352, '23': 29, 'products': 1390, 'offer': 1227, 'land': 994, 'australia': 196, 'example': 641, 'development': 543, 'step': 1732, 'coalition': 389, 'communications': 406, 'cia': 362, 'joint': 956, 'failure': 662, 'reasons': 1466, 'gives': 768, 'forced': 721, 'lines': 1046, 'street': 1742, 'main': 1077, 'banks': 214, 'putting': 1430, 'polls': 1341, 'abc': 47, 'morning': 1157, 'fast': 673, 'carolina': 314, 'highest': 830, 'investors': 919, 'view': 1906, 'raising': 1446, 'ones': 1240, 'level': 1032, 'five': 707, 'words': 1972, 'note': 1212, 'demand': 526, 'prove': 1416, 'expect': 645, 'buy': 292, 'reforms': 1479, 'msnbc': 1166, 'correct': 455, 'eight': 594, 'bank': 213, 'joe': 951, 'sheriff': 1649, 'arizona': 163, 'racial': 1439, 'terms': 1800, 'light': 1040, 'iowa': 923, 'arrested': 169, '2012': 18, 'violent': 1909, 'communities': 408, 'prosecutors': 1410, 'imposed': 875, '14': 6, 'ceo': 332, 'hampshire': 801, 'conditions': 419, 'dangerous': 497, 'removed': 1503, 'immediate': 868, 'ethnic': 625, 'beginning': 227, 'asylum': 182, 'fear': 677, 'faith': 664, 'chris': 356, 'star': 1720, 'fellow': 683, 'smith': 1678, 'firing': 702, 'considering': 435, 'server': 1637, 'commitment': 402, 'front': 741, 'appearance': 150, 'reilly': 1488, 'problem': 1386, 'style': 1751, 'possibility': 1349, 'progressive': 1396, 'completely': 414, 'seven': 1643, 'san': 1577, 'hearing': 819, 'strike': 1744, 'fighting': 689, 'progress': 1395, 'demands': 527, 'breaking': 269, 'drug': 579, 'island': 933, 'near': 1187, 'systems': 1775, 'hurricane': 857, 'attack': 183, 'planning': 1319, 'share': 1647, 'tom': 1834, 'happened': 806, 'wins': 1964, 'ohio': 1236, 'wisconsin': 1966, 'youtube': 1997, 'videos': 1904, 'standard': 1717, 'seeing': 1610, 'donors': 568, 'super': 1758, 'supports': 1764, 'couple': 467, 'thinking': 1814, 'directly': 551, 'electoral': 600, 'explain': 649, 'certainly': 334, 'wrong': 1986, 'opponents': 1249, 'decades': 513, 'gas': 751, 'northern': 1211, '200': 13, 'production': 1389, 'politicians': 1336, 'friend': 739, 'knows': 985, 'threatening': 1822, 'interests': 907, 'proposals': 1407, 'sides': 1662, 'ted': 1792, 'cruz': 486, 'proposal': 1406, 'widely': 1957, 'otherwise': 1262, 'african': 87, 'female': 685, 'black': 252, 'liberals': 1035, 'mother': 1160, 'minority': 1145, 'liberal': 1034, 'activist': 66, 'records': 1473, 'primary': 1377, 'abortion': 50, 'labor': 991, 'nominee': 1207, 'blamed': 254, 'compared': 412, 'science': 1595, 'audience': 194, 'cities': 364, 'democracy': 528, 'contact': 439, 'soros': 1688, 'choice': 354, 'talking': 1782, 'capture': 310, 'vowed': 1921, 'gop': 778, 'elected': 597, 'replace': 1507, 'appear': 149, 'anything': 145, 'classified': 376, 'publicly': 1422, 'discussed': 556, 'attacked': 184, 'deep': 521, 'friends': 740, 'truly': 1857, 'parts': 1287, 'alternative': 122, 'minimum': 1142, 'per': 1303, 'zero': 1998, '2011': 17, 'fine': 699, 'markets': 1093, 'seems': 1615, 'britain': 275, 'pushing': 1427, 'answer': 141, 'polling': 1340, 'worse': 1980, 'wage': 1922, '70': 45, 'confidence': 423, 'fed': 680, 'firms': 704, 'appears': 152, 'particular': 1282, 'drive': 575, 'hospital': 844, 'event': 631, 'career': 313, 'sometimes': 1685, 'independence': 888, 'scalia': 1588, 'responded': 1531, 'backing': 207, 'death': 508, 'article': 171, 'mind': 1141, 'practice': 1360, 'supposed': 1765, 'society': 1680, 'tonight': 1835, 'leading': 1016, 'damage': 496, 'continued': 441, 'unless': 1883, 'watch': 1934, 'anyone': 144, 'journal': 958, 'quite': 1437, 'whatever': 1952, 'worried': 1979, 'operation': 1246, 'sanders': 1579, 'upon': 1885, 'mission': 1149, 'providing': 1419, 'taxpayer': 1788, 'opportunity': 1250, 'deals': 507, 'maybe': 1103, 'sell': 1618, 'towards': 1842, 'seem': 1613, 'population': 1345, 'reaction': 1457, 'hour': 847, 'behalf': 228, 'doubt': 570, '16': 8, 'green': 787, 'organization': 1258, 'draft': 573, 'coal': 388, 'council': 460, 'trip': 1854, 'presidency': 1365, 'mccain': 1105, 'prior': 1380, 'western': 1951, 'institute': 901, 'waiting': 1924, 'remember': 1501, 'mention': 1122, 'ivanka': 939, 'everyone': 636, 'scene': 1590, 'victims': 1901, 'closely': 384, 'situation': 1675, 'listen': 1050, 'ben': 235, 'carson': 318, 'died': 545, 'figures': 691, 'tensions': 1798, 'fall': 666, 'offered': 1228, 'michelle': 1129, 'search': 1600, 'warren': 1932, 'acting': 62, 'voice': 1914, 'richard': 1548, 'stopped': 1738, 'diplomats': 549, 'offensive': 1226, 'cyber': 494, 'relations': 1491, 'ukraine': 1875, 'cooperation': 451, 'reagan': 1460, 'facebook': 654, 'france': 732, 'borders': 265, 'europe': 627, 'moment': 1151, 'threat': 1820, 'xi': 1988, 'asia': 172, 'sea': 1598, 'ballistic': 209, 'epa': 617, 'water': 1936, 'meetings': 1117, 'arms': 165, 'pakistan': 1271, 'weapons': 1941, 'video': 1903, 'showing': 1656, 'worst': 1981, 'magazine': 1075, 'ran': 1449, 'killed': 977, 'marco': 1090, 'rubio': 1562, 'supporting': 1763, 'heads': 814, 'transition': 1847, 'sarah': 1580, 'course': 468, 'account': 56, 'declared': 519, 'investigations': 916, 'caught': 325, 'associated': 180, 'banned': 215, 'briefing': 272, 'dismissed': 558, 'islamist': 932, 'militants': 1137, 'god': 773, 'commander': 398, 'entire': 614, 'vehicle': 1893, 'killing': 978, 'testimony': 1807, 'training': 1845, 'unlikely': 1884, 'pro': 1383, 'launch': 1003, 'facts': 659, 'choose': 355, 'woman': 1969, 'politico': 1337, 'victim': 1900, 'agree': 95, 'saudi': 1582, 'arabia': 159, 'learned': 1017, 'korean': 987, 'arrest': 168, 'daughter': 500, 'threatened': 1821, 'seriously': 1634, 'screen': 1597, 'european': 628, 'direct': 550, 'hands': 803, 'red': 1474, 'wikileaks': 1959, 'founder': 729, 'kim': 979, 'michigan': 1130, 'eric': 620, 'car': 311, 'regional': 1486, 'romney': 1560, 'com': 393, 'simple': 1668, 'problems': 1387, 'yes': 1992, 'safety': 1575, 'positions': 1347, 'posts': 1354, 'israeli': 935, 'partners': 1286, 'palestinian': 1272, 'heart': 820, 'church': 361, 'dead': 505, 'attempted': 188, 'easy': 586, 'blame': 253, 'sort': 1689, 'religion': 1496, 'network': 1196, 'arrived': 170, 'trust': 1859, 'parenthood': 1276, 'entering': 613, 'convention': 447, 'drugs': 580, 'crime': 476, 'zone': 1999, 'park': 1279, '21st': 26, 'uk': 1874, 'alliance': 111, 'attend': 190, 'islam': 930, 'islamic': 931, 'nfl': 1202, 'fans': 671, 'racist': 1441, 'field': 686, 'involvement': 921, 'kelly': 972, 'yesterday': 1993, 'obviously': 1223, 'totally': 1839, 'establishment': 622, 'lie': 1037, 'retired': 1539, 'town': 1843, 'tillerson': 1828, 'hall': 800, 'ground': 788, 'iranian': 925, 'tehran': 1793, 'common': 405, 'opened': 1244, 'missiles': 1148, 'parents': 1277, 'peace': 1297, 'soldiers': 1681, 'cuba': 487, 'cuban': 488, 'diplomatic': 548, 'migrants': 1133, 'breitbart': 270, 'site': 1673, 'guns': 796, 'biden': 244, 'piece': 1314, 'conspiracy': 436, 'worth': 1982, 'troops': 1855, 'army': 166, 'none': 1209, 'happening': 807, 'melania': 1118, 'spicer': 1707, 'experience': 647, 'runner': 1568, 'presidents': 1368, 'background': 206, 'test': 1806, 'thanks': 1810, 'lives': 1054, 'rallies': 1447, 'racism': 1440, 'innocent': 898, 'brother': 279, 'martin': 1095, 'presence': 1363, 'protesters': 1414, 'stupid': 1750, 'grand': 784, 'eu': 626, 'terrorist': 1804, 'syrian': 1773, 'turkey': 1864, 'turkish': 1865, 'muslims': 1173, 'stated': 1725, 'arab': 158, 'dr': 572, 'allegedly': 110, 'oh': 1235, 'happens': 808, 'rep': 1504, 'prince': 1379, 'terror': 1802, 'attacking': 185, 'pacific': 1268, 'ireland': 928, 'actual': 70, 'illinois': 865, 'stance': 1715, 'french': 737, 'pm': 1327, 'un': 1877, 'shooting': 1651, 'gun': 795, 'carrying': 317, 'ad': 72, 'jail': 940, 'cross': 484, 'militant': 1136, 'destroy': 539, 'nato': 1183, 'brussels': 282, 'germany': 759, 'sean': 1599, 'finally': 695, 'humanitarian': 855, 'german': 758, 'detroit': 542, 'boy': 267, 'picture': 1313, 'india': 890, 'lies': 1038, 'terrorists': 1805, 'murder': 1171, 'orlando': 1260, 'reportedly': 1510, 'parliament': 1280, 'summit': 1756, 'exactly': 640, 'journalist': 959, 'sick': 1660, 'built': 286, 'anthem': 142, 'spanish': 1696, 'pyongyang': 1431, 'explained': 650, 'radical': 1442, 'mayor': 1104, 'rape': 1451, 'oregon': 1257, 'platform': 1321, 'kill': 976, 'lady': 993, 'sen': 1619, 'eastern': 585, 'wearing': 1942, 'assembly': 178, 'apparently': 146, 'erdogan': 619, 'proof': 1403, 'chancellor': 340, 'merkel': 1123, 'myanmar': 1175, 'rohingya': 1558, 'bangladesh': 212, 'conway': 450, 'taiwan': 1776, 'wire': 1965, 'assad': 176, 'watching': 1935, 'girl': 764, 'playing': 1325, 'communist': 407, 'palin': 1273, 'strikes': 1745, 'japan': 944, 'christie': 358, 'hannity': 804, 'province': 1420, 'suspect': 1770, 'regime': 1484, 'wounded': 1984, 'iraqi': 927, 'civilians': 370, 'rebels': 1467, 'qaeda': 1432, 'hezbollah': 827, 'lebanon': 1021, 'kurdish': 989, 'featured': 678, 'macron': 1073, 'flint': 710, 'shooter': 1650, 'campus': 303, 'spain': 1695, 'mugabe': 1169, 'brexit': 271, 'catalan': 323, 'cops': 452, 'benghazi': 238, 'hariri': 811, 'getty': 763, 'pic': 1311, 'catalonia': 324, 'https': 852, 'js': 962, '21wire': 27}\n"
     ]
    }
   ],
   "source": [
    "print(vectorizer.vocabulary_)"
   ]
  },
  {
   "cell_type": "markdown",
   "metadata": {},
   "source": [
    "## Training and Testing Sets\n",
    "Divide el conjunto con los datos `X`y la variable `target`. `test_size` representa el tamaño del set de prueba"
   ]
  },
  {
   "cell_type": "code",
   "execution_count": 6,
   "metadata": {
    "pycharm": {
     "name": "#%%\n"
    }
   },
   "outputs": [],
   "source": [
    "X_train, X_test, y_train, y_test = train_test_split(X, target, test_size=0.4, random_state=10)"
   ]
  },
  {
   "cell_type": "code",
   "execution_count": 7,
   "metadata": {
    "pycharm": {
     "name": "#%%\n"
    }
   },
   "outputs": [
    {
     "name": "stdout",
     "output_type": "stream",
     "text": [
      "(26938, 2000)\n",
      "(17960, 2000)\n",
      "44898\n"
     ]
    }
   ],
   "source": [
    "print(X_train.shape)\n",
    "print(X_test.shape)\n",
    "print(26938+17960)"
   ]
  },
  {
   "cell_type": "markdown",
   "metadata": {},
   "source": [
    "## Training Text Classification Model\n",
    "Aplicación del algoritmo deseado, en este caso un RandomForest"
   ]
  },
  {
   "cell_type": "code",
   "execution_count": 15,
   "metadata": {
    "pycharm": {
     "name": "#%%\n"
    }
   },
   "outputs": [],
   "source": [
    "classifier = RandomForestClassifier(n_estimators=1000, random_state=0, n_jobs=-1)\n",
    "classifier.fit(X_train, y_train)\n",
    "y_pred = classifier.predict(X_test)"
   ]
  },
  {
   "cell_type": "markdown",
   "metadata": {},
   "source": [
    "## Evaluating"
   ]
  },
  {
   "cell_type": "code",
   "execution_count": 18,
   "metadata": {
    "pycharm": {
     "name": "#%%\n"
    }
   },
   "outputs": [
    {
     "name": "stdout",
     "output_type": "stream",
     "text": [
      "[[9388   17]\n",
      " [   9 8546]]\n",
      "              precision    recall  f1-score   support\n",
      "\n",
      "         0.0       1.00      1.00      1.00      9405\n",
      "         1.0       1.00      1.00      1.00      8555\n",
      "\n",
      "    accuracy                           1.00     17960\n",
      "   macro avg       1.00      1.00      1.00     17960\n",
      "weighted avg       1.00      1.00      1.00     17960\n",
      "\n",
      "0.9985523385300669\n"
     ]
    }
   ],
   "source": [
    "print(confusion_matrix(y_test,y_pred))\n",
    "print(classification_report(y_test,y_pred))\n",
    "print(accuracy_score(y_test, y_pred))\n",
    "\n",
    "\n"
   ]
  },
  {
   "cell_type": "markdown",
   "metadata": {},
   "source": [
    "## KNN a ver qué pasa"
   ]
  },
  {
   "cell_type": "code",
   "execution_count": 12,
   "metadata": {
    "pycharm": {
     "name": "#%%\n"
    }
   },
   "outputs": [],
   "source": [
    "knn_model = KNeighborsClassifier(n_neighbors=4, n_jobs=-1)\n",
    "knn_model.fit(X_train, y_train)\n",
    "y_pred = knn_model.predict(X_test)"
   ]
  },
  {
   "cell_type": "markdown",
   "metadata": {},
   "source": [
    "## Evaluating KNN\n"
   ]
  },
  {
   "cell_type": "code",
   "execution_count": 13,
   "metadata": {
    "pycharm": {
     "name": "#%%\n"
    }
   },
   "outputs": [
    {
     "name": "stdout",
     "output_type": "stream",
     "text": [
      "[[8443  962]\n",
      " [2621 5934]]\n",
      "              precision    recall  f1-score   support\n",
      "\n",
      "         0.0       0.76      0.90      0.82      9405\n",
      "         1.0       0.86      0.69      0.77      8555\n",
      "\n",
      "    accuracy                           0.80     17960\n",
      "   macro avg       0.81      0.80      0.80     17960\n",
      "weighted avg       0.81      0.80      0.80     17960\n",
      "\n",
      "0.800501113585746\n"
     ]
    }
   ],
   "source": [
    "print(confusion_matrix(y_test,y_pred))\n",
    "print(classification_report(y_test,y_pred))\n",
    "print(accuracy_score(y_test, y_pred))"
   ]
  },
  {
   "cell_type": "markdown",
   "metadata": {},
   "source": [
    "## Saving Model"
   ]
  },
  {
   "cell_type": "code",
   "execution_count": 14,
   "metadata": {
    "pycharm": {
     "name": "#%%\n"
    }
   },
   "outputs": [],
   "source": [
    "with open('text_classifier_k_4', 'wb') as picklefile:\n",
    "    pickle.dump(knn_model,picklefile)"
   ]
  }
 ],
 "metadata": {
  "kernelspec": {
   "display_name": "Python 3",
   "language": "python",
   "name": "python3"
  },
  "language_info": {
   "codemirror_mode": {
    "name": "ipython",
    "version": 3
   },
   "file_extension": ".py",
   "mimetype": "text/x-python",
   "name": "python",
   "nbconvert_exporter": "python",
   "pygments_lexer": "ipython3",
   "version": "3.7.7"
  }
 },
 "nbformat": 4,
 "nbformat_minor": 1
}